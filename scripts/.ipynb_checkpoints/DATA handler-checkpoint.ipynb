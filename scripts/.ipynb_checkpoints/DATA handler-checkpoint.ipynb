{
 "metadata": {
  "name": "",
  "signature": "sha256:53e11b094b4f2a091f3b8ad6969dfacb7e8d7ba173c0755e030ec40a5380de27"
 },
 "nbformat": 3,
 "nbformat_minor": 0,
 "worksheets": [
  {
   "cells": [
    {
     "cell_type": "heading",
     "level": 1,
     "metadata": {},
     "source": [
      "Some functions to handle/test data"
     ]
    },
    {
     "cell_type": "code",
     "collapsed": false,
     "input": [
      "# Some docs here : \n",
      "# https://pyglet.readthedocs.org/en/pyglet-1.2-maintenance/programming_guide/quickstart.html#playing-sounds-and-music\n",
      "# http://code.nabla.net/doc/pyglet_old/api/pyglet/media/avbin/pyglet.media.avbin.AVbinSource.html"
     ],
     "language": "python",
     "metadata": {},
     "outputs": [],
     "prompt_number": 8
    },
    {
     "cell_type": "code",
     "collapsed": false,
     "input": [
      "from __future__ import print_function\n",
      "\n",
      "import os\n",
      "import random\n",
      "import pickle\n",
      "import cPickle\n",
      "import pyglet\n",
      "import numpy as np\n",
      "#import random\n",
      "import matplotlib.animation as animation\n",
      "import matplotlib.pyplot as plt\n",
      "from mpl_toolkits.mplot3d import Axes3D\n",
      "SEED = 20151005"
     ],
     "language": "python",
     "metadata": {},
     "outputs": [],
     "prompt_number": 1
    },
    {
     "cell_type": "code",
     "collapsed": false,
     "input": [
      "def create_dataset(loops_folder):\n",
      "\n",
      "#Iterate on all folders\n",
      "folder_list = os.listdir(self.dataPath)\n",
      "for folder in folder_list:\n",
      "    \n",
      "    #Iterate on all sequences\n",
      "    sequence_list = os.listdir(os.path.join(self.dataPath, folder))           \n",
      "    nbSequences = len(sequence_list)\n",
      "    for s in range(nbSequences):\n",
      "        #do something"
     ],
     "language": "python",
     "metadata": {},
     "outputs": []
    },
    {
     "cell_type": "code",
     "collapsed": false,
     "input": [
      "project_folder = (os.environ[\"FLOW_ROOT\"])\n",
      "loops_folder = os.path.join(project_folder, \"loops\")\n",
      "\n",
      "test_file = os.path.join(loops_folder, \"Ambient Chill Out\", \"Bass.ogg\")\n",
      "test_file2 = os.path.join(loops_folder, \"Ambient Chill Out\", \"Percussion.ogg\")\n"
     ],
     "language": "python",
     "metadata": {},
     "outputs": [],
     "prompt_number": 2
    },
    {
     "cell_type": "code",
     "collapsed": false,
     "input": [
      "\"\"\"\n",
      "Attributes of AVbinSource:\n",
      "audio_format\t\n",
      "duration\tThe length of the source, in seconds.\n",
      "info\t\n",
      "is_queued\tDetermine if this source has been queued\n",
      "video_format\t\n",
      "\n",
      "Attributes of SourceInfo:\n",
      "album\t\n",
      "author\t\n",
      "comment\t\n",
      "copyright\t\n",
      "genre\t\n",
      "title\t\n",
      "track\t\n",
      "year\n",
      "\"\"\"\n",
      "\n",
      "bass = pyglet.media.load(test_file)\n",
      "perc = pyglet.media.load(test_file2)\n",
      "#ret1 = bass.play()\n",
      "#ret2 = perc.play()\n",
      "#pyglet.app.run()\n",
      "\n",
      "print (bass.audio_format)\n",
      "print (bass.duration)\n",
      "print (bass.is_queued)\n",
      "print (bass.video_format)\n",
      "\n",
      "print (bass.info.album)\n",
      "print (bass.info.author)\n",
      "print (bass.info.comment)\n",
      "print (bass.info.copyright)\n",
      "print (bass.info.genre)\n",
      "print (bass.info.title)\n",
      "print (bass.info.track)\n",
      "print (bass.info.year)"
     ],
     "language": "python",
     "metadata": {},
     "outputs": [
      {
       "output_type": "stream",
       "stream": "stdout",
       "text": [
        "AudioFormat(channels=2, sample_size=16, sample_rate=44100)\n",
        "24.303832\n",
        "True\n",
        "None\n",
        "\n",
        "\n",
        "\n",
        "\n",
        "\n",
        "\n",
        "0\n",
        "0\n"
       ]
      }
     ],
     "prompt_number": 12
    },
    {
     "cell_type": "code",
     "collapsed": false,
     "input": [
      "import re, string; \n",
      "non_ascii_regex = re.compile(r'[^\\x00-\\x7F]+')\n",
      "    \n",
      "def get_loop_info(loop_file):\n",
      "    with open(loop_file, 'rb') as f:\n",
      "        l1 = f.readline()\n",
      "        l2 = f.readline()\n",
      "    desc = l1 + l2    \n",
      "        \n",
      "    print (desc)\n",
      "    desc = non_ascii_regex.sub('', desc)\n",
      "    print (desc)  \n",
      "    #words = l1.split(' ')\n",
      "    #print (words)"
     ],
     "language": "python",
     "metadata": {},
     "outputs": [],
     "prompt_number": 52
    },
    {
     "cell_type": "code",
     "collapsed": false,
     "input": [
      "get_loop_info(test_file)"
     ],
     "language": "python",
     "metadata": {},
     "outputs": [
      {
       "output_type": "stream",
       "stream": "stdout",
       "text": [
        "OggS\u0000\u0002\u0000\u0000\u0000\u0000\u0000\u0000\u0000\u0000\u0005{\u0000\u0000\u0000\u0000\u0000\u0000Q\ufffd.\ufffd\u0001\u001e",
        "\u0001vorbis\u0000\u0000\u0000\u0000\u0002D\ufffd\u0000\u0000\u0000\u0000\u0000\u0000\u0003\ufffd\u0002\u0000\u0000\u0000\u0000\u0000\ufffd\u0001OggS\u0000\u0000\u0000\u0000\u0000\u0000\u0000\u0000\u0000\u0000\u0005{\u0000\u0000\u0001\u0000\u0000\u0000\ufffd\ufffd\u0013\ufffd\u0011\ufffd\ufffd\ufffd\ufffd\ufffd\ufffd\ufffd\ufffd\ufffd\ufffd\ufffd\ufffd\ufffd\ufffd\ufffd\ufffdq\u0003vorbis\u001d",
        "\u0000\u0000\u0000Xiph.Org libVorbis I 20030909\u000f\u0000\u0000\u0000\u0006\u0000\u0000\u0000LOOP=1\u0013\u0000\u0000\u0000LOOPSAMPLES=1071799\f",
        "\u0000\u0000\u0000LOOPBEATS=32\f",
        "\u0000\u0000\u0000LOOPHASKEY=1\n",
        "\u0000\u0000\u0000LOOPKEY=11\r",
        "\u0000\u0000\u0000LOOPISMAJOR=1\u001c",
        "\u0000\u0000\u0000LOOPTIMESIGNATURENUMERATOR=4\u001e",
        "\u0000\u0000\u0000LOOPTIMESIGNATUREDENOMINATOR=4\u0011\u0000\u0000\u0000LOOPGENRE=Ambient\u001b\u0000\u0000\u0000LOOPSTYLE=Ambient Chill Out\u0013\u0000\u0000\u0000LOOPINSTRUMENT=Bass\u0010\u0000\u0000\u0000ARTIST=Dj Puzzle\u001c",
        "\u0000\u0000\u0000URL=http://www.djpuzzle.com/\f",
        "\u0000\u0000\u0000LOOPID=10075\u001e",
        "\u0000\u0000\u0000ENCODER=Acoustica Sound Engine\u0001\u0005vorbis+BCV\u0001\u0000\b\u0000\u0000\u00001L(\u0100\u0410U\u0000\u0000\u0010\u0000\u0000 \ufffd6\u0010k\ufffd\ufffd\ufffdZk\ufffd\ufffdvZk\ufffd\ufffd\ufffdZk&\ufffd\ufffdZk\ufffd\ufffd\ufffdZk\ufffd\ufffd\ufffdZk\ufffd\ufffd\ufffdZc 4d\u0015\u0000\u0000\u0004\u0000@(J\u0012\ufffddRLJ)e G\ufffdr\ufffd9H\ufffd'\ufffd(G\n",
        "\n",
        "OggS\u0000\u0002\u0000\u0000\u0000\u0000\u0000\u0000\u0000\u0000\u0005{\u0000\u0000\u0000\u0000\u0000\u0000Q!.!\u0001\u001e",
        "\u0001vorbis\u0000\u0000\u0000\u0000\u0002D!\u0000\u0000\u0000\u0000\u0000\u0000\u0003!\u0002\u0000\u0000\u0000\u0000\u0000!\u0001OggS\u0000\u0000\u0000\u0000\u0000\u0000\u0000\u0000\u0000\u0000\u0005{\u0000\u0000\u0001\u0000\u0000\u0000!\u0013!\u0011!q\u0003vorbis\u001d",
        "\u0000\u0000\u0000Xiph.Org libVorbis I 20030909\u000f\u0000\u0000\u0000\u0006\u0000\u0000\u0000LOOP=1\u0013\u0000\u0000\u0000LOOPSAMPLES=1071799\f",
        "\u0000\u0000\u0000LOOPBEATS=32\f",
        "\u0000\u0000\u0000LOOPHASKEY=1\n",
        "\u0000\u0000\u0000LOOPKEY=11\r",
        "\u0000\u0000\u0000LOOPISMAJOR=1\u001c",
        "\u0000\u0000\u0000LOOPTIMESIGNATURENUMERATOR=4\u001e",
        "\u0000\u0000\u0000LOOPTIMESIGNATUREDENOMINATOR=4\u0011\u0000\u0000\u0000LOOPGENRE=Ambient\u001b\u0000\u0000\u0000LOOPSTYLE=Ambient Chill Out\u0013\u0000\u0000\u0000LOOPINSTRUMENT=Bass\u0010\u0000\u0000\u0000ARTIST=Dj Puzzle\u001c",
        "\u0000\u0000\u0000URL=http://www.djpuzzle.com/\f",
        "\u0000\u0000\u0000LOOPID=10075\u001e",
        "\u0000\u0000\u0000ENCODER=Acoustica Sound Engine\u0001\u0005vorbis+BCV\u0001\u0000\b\u0000\u0000\u00001L(!U\u0000\u0000\u0010\u0000\u0000 !6\u0010k!Zk!vZk!Zk&!Zk!Zk!Zk!Zc 4d\u0015\u0000\u0000\u0004\u0000@(J\u0012!dRLJ)e G!r!9H!'!(G\n",
        "\n"
       ]
      }
     ],
     "prompt_number": 53
    },
    {
     "cell_type": "code",
     "collapsed": false,
     "input": [],
     "language": "python",
     "metadata": {},
     "outputs": []
    }
   ],
   "metadata": {}
  }
 ]
}