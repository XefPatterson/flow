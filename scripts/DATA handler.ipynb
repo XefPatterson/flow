{
 "metadata": {
  "name": "",
  "signature": "sha256:a3b2f0b72e828899f3104c68c50c8ede6525cbab8853ca2a40be6c01e473dc5f"
 },
 "nbformat": 3,
 "nbformat_minor": 0,
 "worksheets": [
  {
   "cells": [
    {
     "cell_type": "heading",
     "level": 1,
     "metadata": {},
     "source": [
      "Some functions to handle/test data"
     ]
    },
    {
     "cell_type": "code",
     "collapsed": false,
     "input": [
      "# Some docs here : \n",
      "# https://pyglet.readthedocs.org/en/pyglet-1.2-maintenance/programming_guide/quickstart.html#playing-sounds-and-music\n",
      "# http://code.nabla.net/doc/pyglet_old/api/pyglet/media/avbin/pyglet.media.avbin.AVbinSource.html"
     ],
     "language": "python",
     "metadata": {},
     "outputs": [],
     "prompt_number": 8
    },
    {
     "cell_type": "code",
     "collapsed": false,
     "input": [
      "from __future__ import print_function\n",
      "\n",
      "import os\n",
      "import re\n",
      "import random\n",
      "import pickle\n",
      "import cPickle\n",
      "import pyglet\n",
      "import numpy as np\n",
      "#import random\n",
      "import matplotlib.animation as animation\n",
      "import matplotlib.pyplot as plt\n",
      "from mpl_toolkits.mplot3d import Axes3D\n",
      "SEED = 20151005"
     ],
     "language": "python",
     "metadata": {},
     "outputs": [],
     "prompt_number": 59
    },
    {
     "cell_type": "code",
     "collapsed": false,
     "input": [
      "def create_dataset(loops_folder):\n",
      "\n",
      "#Iterate on all folders\n",
      "folder_list = os.listdir(self.dataPath)\n",
      "for folder in folder_list:\n",
      "    \n",
      "    #Iterate on all sequences\n",
      "    sequence_list = os.listdir(os.path.join(self.dataPath, folder))           \n",
      "    nbSequences = len(sequence_list)\n",
      "    for s in range(nbSequences):\n",
      "        #do something"
     ],
     "language": "python",
     "metadata": {},
     "outputs": []
    },
    {
     "cell_type": "code",
     "collapsed": false,
     "input": [
      "project_folder = (os.environ[\"FLOW_ROOT\"])\n",
      "loops_folder = os.path.join(project_folder, \"loops\")\n",
      "\n",
      "test_file = os.path.join(loops_folder, \"Ambient Chill Out\", \"Bass.ogg\")\n",
      "test_file2 = os.path.join(loops_folder, \"Ambient Chill Out\", \"Percussion.ogg\")\n"
     ],
     "language": "python",
     "metadata": {},
     "outputs": [],
     "prompt_number": 2
    },
    {
     "cell_type": "code",
     "collapsed": false,
     "input": [
      "\"\"\"\n",
      "Attributes of AVbinSource:\n",
      "audio_format\t\n",
      "duration\tThe length of the source, in seconds.\n",
      "info\t\n",
      "is_queued\tDetermine if this source has been queued\n",
      "video_format\t\n",
      "\n",
      "Attributes of SourceInfo:\n",
      "album\t\n",
      "author\t\n",
      "comment\t\n",
      "copyright\t\n",
      "genre\t\n",
      "title\t\n",
      "track\t\n",
      "year\n",
      "\"\"\"\n",
      "\n",
      "bass = pyglet.media.load(test_file)\n",
      "perc = pyglet.media.load(test_file2)\n",
      "#ret1 = bass.play()\n",
      "#ret2 = perc.play()\n",
      "#pyglet.app.run()\n",
      "\n",
      "print (bass.audio_format)\n",
      "print (bass.duration)\n",
      "print (bass.is_queued)\n",
      "print (bass.video_format)\n",
      "\n",
      "print (bass.info.album)\n",
      "print (bass.info.author)\n",
      "print (bass.info.comment)\n",
      "print (bass.info.copyright)\n",
      "print (bass.info.genre)\n",
      "print (bass.info.title)\n",
      "print (bass.info.track)\n",
      "print (bass.info.year)"
     ],
     "language": "python",
     "metadata": {},
     "outputs": [
      {
       "output_type": "stream",
       "stream": "stdout",
       "text": [
        "AudioFormat(channels=2, sample_size=16, sample_rate=44100)\n",
        "24.303832\n",
        "True\n",
        "None\n",
        "\n",
        "\n",
        "\n",
        "\n",
        "\n",
        "\n",
        "0\n",
        "0\n"
       ]
      }
     ],
     "prompt_number": 12
    },
    {
     "cell_type": "code",
     "collapsed": false,
     "input": [
      "non_ascii_regex = re.compile(r'[^\\x00-\\x7F]+')    \n",
      "def get_loop_info(loop_file):\n",
      "    with open(loop_file, 'rb') as f:\n",
      "        l1 = f.readline()\n",
      "        l2 = f.readline()\n",
      "    desc = l1 + l2    \n",
      "        \n",
      "    #print (desc)\n",
      "    desc = non_ascii_regex.sub('', desc)\n",
      "    words = desc.split('LOOP')\n",
      "    for w in words:\n",
      "        print (w)\n",
      "    #words = l1.split(' ')\n",
      "    #print (words)\n",
      "    \n",
      "    "
     ],
     "language": "python",
     "metadata": {},
     "outputs": [],
     "prompt_number": 62
    },
    {
     "cell_type": "code",
     "collapsed": false,
     "input": [
      "get_loop_info(test_file)\n",
      "\n",
      "print (1071799/44100.0/32.0*60.0)"
     ],
     "language": "python",
     "metadata": {},
     "outputs": [
      {
       "output_type": "stream",
       "stream": "stdout",
       "text": [
        "OggS\u0000\u0002\u0000\u0000\u0000\u0000\u0000\u0000\u0000\u0000\u0005{\u0000\u0000\u0000\u0000\u0000\u0000Q.\u0001\u001e",
        "\u0001vorbis\u0000\u0000\u0000\u0000\u0002D\u0000\u0000\u0000\u0000\u0000\u0000\u0003\u0002\u0000\u0000\u0000\u0000\u0000\u0001OggS\u0000\u0000\u0000\u0000\u0000\u0000\u0000\u0000\u0000\u0000\u0005{\u0000\u0000\u0001\u0000\u0000\u0000\u0013\u0011q\u0003vorbis\u001d",
        "\u0000\u0000\u0000Xiph.Org libVorbis I 20030909\u000f\u0000\u0000\u0000\u0006\u0000\u0000\u0000\n",
        "=1\u0013\u0000\u0000\u0000\n",
        "SAMPLES=1071799\f",
        "\u0000\u0000\u0000\n",
        "BEATS=32\f",
        "\u0000\u0000\u0000\n",
        "HASKEY=1\n",
        "\u0000\u0000\u0000\n",
        "KEY=11\r",
        "\u0000\u0000\u0000\n",
        "ISMAJOR=1\u001c",
        "\u0000\u0000\u0000\n",
        "TIMESIGNATURENUMERATOR=4\u001e",
        "\u0000\u0000\u0000\n",
        "TIMESIGNATUREDENOMINATOR=4\u0011\u0000\u0000\u0000\n",
        "GENRE=Ambient\u001b\u0000\u0000\u0000\n",
        "STYLE=Ambient Chill Out\u0013\u0000\u0000\u0000\n",
        "INSTRUMENT=Bass\u0010\u0000\u0000\u0000ARTIST=Dj Puzzle\u001c",
        "\u0000\u0000\u0000URL=http://www.djpuzzle.com/\f",
        "\u0000\u0000\u0000\n",
        "ID=10075\u001e",
        "\u0000\u0000\u0000ENCODER=Acoustica Sound Engine\u0001\u0005vorbis+BCV\u0001\u0000\b\u0000\u0000\u00001L(U\u0000\u0000\u0010\u0000\u0000 6\u0010kZkvZkZk&ZkZkZkZc 4d\u0015\u0000\u0000\u0004\u0000@(J\u0012dRLJ)e Gr9H'(G\n",
        "\n",
        "45.5696853741\n"
       ]
      }
     ],
     "prompt_number": 70
    },
    {
     "cell_type": "code",
     "collapsed": false,
     "input": [],
     "language": "python",
     "metadata": {},
     "outputs": []
    }
   ],
   "metadata": {}
  }
 ]
}